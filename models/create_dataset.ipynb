{
 "cells": [
  {
   "cell_type": "code",
   "execution_count": null,
   "metadata": {},
   "outputs": [],
   "source": [
    "# read the folder\n",
    "import os\n",
    "import numpy as np\n",
    "\n",
    "folder_dir = \"D:\\anguli_fingerprint_datasets\\Anguli_100_10k\"\n",
    "\n",
    "# load all files into a dict\n",
    "# key: filestem, value: feature vector\n",
    "\n",
    "for file in os.listdir(folder_dir):\n",
    "    if file.endswith(\".txt.npy\"):"
   ]
  },
  {
   "cell_type": "code",
   "execution_count": null,
   "metadata": {},
   "outputs": [],
   "source": []
  },
  {
   "cell_type": "code",
   "execution_count": 22,
   "metadata": {},
   "outputs": [],
   "source": [
    "from pathlib import Path\n",
    "from random import shuffle\n",
    "from PIL import Image\n",
    "import numpy as np\n",
    "import os\n",
    "# Specify the source folder where your files are located\n",
    "source_folder = Path(r\"D:\\anguli_fingerprint_datasets\\Anguli_2.5k_50K\\Impressions\")\n"
   ]
  },
  {
   "cell_type": "code",
   "execution_count": 26,
   "metadata": {},
   "outputs": [],
   "source": [
    "all_impressions=list(source_folder.rglob(\"*.tiff\"))"
   ]
  },
  {
   "cell_type": "code",
   "execution_count": 30,
   "metadata": {},
   "outputs": [],
   "source": [
    "finger_impression_dict = {}\n",
    "for impression in all_impressions:\n",
    "    try:\n",
    "        finger_impression_dict[impression.stem].append(impression)\n",
    "    except KeyError:\n",
    "        finger_impression_dict[impression.stem] = [impression]\n"
   ]
  },
  {
   "cell_type": "code",
   "execution_count": 32,
   "metadata": {},
   "outputs": [],
   "source": [
    "from shutil import copyfile\n",
    "\n",
    "# Specify the destination folder where you want to copy the files to\n",
    "destination_folder = Path(r\"D:\\anguli_fingerprint_datasets\\anguli_imagenet\")\n"
   ]
  },
  {
   "cell_type": "code",
   "execution_count": 35,
   "metadata": {},
   "outputs": [],
   "source": [
    "# copy each file to the destination folder by renaming it finger_impression.tiff\n",
    "for finger, impressions in finger_impression_dict.items():\n",
    "    for i, impression in enumerate(impressions,1):\n",
    "        copyfile(impression, destination_folder / f\"{finger}_{i}.tiff\")\n",
    "        # break\n",
    "    # break"
   ]
  },
  {
   "cell_type": "code",
   "execution_count": 36,
   "metadata": {},
   "outputs": [
    {
     "name": "stdout",
     "output_type": "stream",
     "text": [
      "Collecting split-folders\n",
      "  Using cached split_folders-0.5.1-py3-none-any.whl (8.4 kB)\n",
      "Installing collected packages: split-folders\n",
      "Successfully installed split-folders-0.5.1\n",
      "Note: you may need to restart the kernel to use updated packages.\n"
     ]
    }
   ],
   "source": [
    "pip install split-folders"
   ]
  },
  {
   "cell_type": "code",
   "execution_count": 38,
   "metadata": {},
   "outputs": [
    {
     "name": "stdout",
     "output_type": "stream",
     "text": [
      "Collecting opencv-python\n",
      "  Using cached opencv_python-4.8.0.76-cp37-abi3-win_amd64.whl (38.1 MB)\n",
      "Requirement already satisfied: numpy>=1.21.2 in c:\\users\\nis\\.conda\\envs\\van\\lib\\site-packages (from opencv-python) (1.25.0)\n",
      "Installing collected packages: opencv-python\n",
      "Successfully installed opencv-python-4.8.0.76\n",
      "Note: you may need to restart the kernel to use updated packages.\n"
     ]
    }
   ],
   "source": [
    "pip install opencv-python"
   ]
  },
  {
   "cell_type": "code",
   "execution_count": 42,
   "metadata": {},
   "outputs": [],
   "source": [
    "import cv2\n",
    "import os\n",
    "import shutil\n",
    "# Get the path to the images\n",
    "images_path = r\"D:\\anguli_fingerprint_datasets\\anguli_imagenet\"\n",
    "new_image_path = r\"D:\\anguli_fingerprint_datasets\\anguli_imagenet_splitted\"\n",
    "if not os.path.exists(new_image_path):\n",
    "            os.mkdir(new_image_path)\n",
    "cnt=0\n",
    "# Iterate over the images\n",
    "for image_name in os.listdir(images_path):\n",
    "    if image_name.endswith('.tiff'):\n",
    "        # Extract the label from the image name without considering variations\n",
    "        image_name_ex = image_name.split('.')[0]\n",
    "        image_no = image_name_ex.split('_')[0]\n",
    "        index =image_name_ex.split('_')[1]\n",
    "        # reimages_path = '/home/rs/21CS91R01/research/2023_ICVGIP-Code/datasets/FVC2006DB2/'\n",
    "        # Path\n",
    "        path = os.path.join(new_image_path,image_no)\n",
    "        if not os.path.exists(path):\n",
    "            os.mkdir(path)"
   ]
  },
  {
   "cell_type": "code",
   "execution_count": 43,
   "metadata": {},
   "outputs": [],
   "source": [
    "import glob\n",
    "for bmpfile in glob.iglob(os.path.join(images_path, \"*.tiff\")):\n",
    "    folder_no = os.path.basename(bmpfile).split('.')[0].split('_')[0]\n",
    "    dst_dir =os.path.join(new_image_path,folder_no) \n",
    "    shutil.copy(bmpfile, dst_dir)"
   ]
  },
  {
   "cell_type": "code",
   "execution_count": null,
   "metadata": {},
   "outputs": [],
   "source": [
    "import splitfolders\n",
    "output = r\"D:\\anguli_fingerprint_datasets\\output_anguli_imagenet_splitted\"\n",
    "if not os.path.exists(output):\n",
    "            os.mkdir(output)\n",
    "\n",
    "result = splitfolders.ratio(new_image_path,seed=1337, output=output, ratio=(0.5, 0.3, 0.2))"
   ]
  },
  {
   "cell_type": "code",
   "execution_count": null,
   "metadata": {},
   "outputs": [],
   "source": [
    "\n",
    "# Specify the destination folder where you want to move the renamed files\n",
    "\n",
    "cnt=1\n",
    "# Create the destination folder if it doesn't exist\n",
    "if not os.path.exists(destination_folder):\n",
    "    os.makedirs(destination_folder)\n",
    "\n",
    "imp = \"Impression_\" + cnt\n",
    "images = list(Path(source_folder).glob('imp/*/*.tiff'))\n",
    "print(images)\n",
    "# par = Path(images).parent\n",
    "# print(par)\n",
    "# # Get the parent directory paths for each image\n",
    "# parent_dirs = [image.parent for image in images]\n",
    "\n",
    "# # Now, parent_dirs is a list of Path objects containing the parent directory paths\n",
    "# for parent_dir in parent_dirs:\n",
    "#     print(parent_dir)\n",
    "#     break\n",
    "# print(images)\n",
    "\n",
    "# # Iterate through the files in the source folder\n",
    "# for filename in os.listdir(source_folder):\n",
    "#     # Check if the file is a regular file (not a directory)\n",
    "#     if os.path.isfile(os.path.join(source_folder, filename)):\n",
    "#         # Rename the file (you can modify the renaming logic as needed)\n",
    "#         new_filename = 'new_' + filename  # For example, add a prefix \"new_\"\n",
    "#         new_filepath = os.path.join(destination_folder, new_filename)\n",
    "        \n",
    "#         # Construct the source and destination paths\n",
    "#         source_filepath = os.path.join(source_folder, filename)\n",
    "        \n",
    "#         # Move the file to the destination folder with the new name\n",
    "#         shutil.move(source_filepath, new_filepath)\n",
    "#         print(f\"Moved and renamed: {filename} to {new_filename} in {destination_folder}\")\n"
   ]
  }
 ],
 "metadata": {
  "kernelspec": {
   "display_name": "van",
   "language": "python",
   "name": "python3"
  },
  "language_info": {
   "codemirror_mode": {
    "name": "ipython",
    "version": 3
   },
   "file_extension": ".py",
   "mimetype": "text/x-python",
   "name": "python",
   "nbconvert_exporter": "python",
   "pygments_lexer": "ipython3",
   "version": "3.10.11"
  },
  "orig_nbformat": 4
 },
 "nbformat": 4,
 "nbformat_minor": 2
}
